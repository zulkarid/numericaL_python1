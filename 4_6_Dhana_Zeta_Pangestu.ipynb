{
 "cells": [
  {
   "cell_type": "markdown",
   "id": "854523b1-c0ba-45ec-809f-06d65db9be13",
   "metadata": {},
   "source": [
    "# Membuat Matriks\n",
    "\n",
    "#### Dalam NumPy, matriks adalah representasi dari array dua dimensi. Ada banyak cara untuk membuat matriks, bergantung pada data yang Anda miliki atau pola yang Anda butuhkan.\n",
    "\n",
    "#### Definisi : Matriks adalah array dengan dua dimensi, sering digunakan untuk mewakili struktur data tabel seperti baris dan kolom. Di NumPy, ini adalah objek ndarray dengan ndim (jumlah dimensi) sama dengan 2.\n",
    "\n",
    "#### Berikut adalah beberapa cara umum untuk membuat matriks:\n",
    "#### Dari list Python : Anda bisa mengubah list Python yang berisi list lain (merepresentasikan baris) menjadi matriks NumPy."
   ]
  },
  {
   "cell_type": "code",
   "execution_count": 55,
   "id": "c2b22c54-0772-4923-9087-a84c5db1c255",
   "metadata": {},
   "outputs": [
    {
     "name": "stdout",
     "output_type": "stream",
     "text": [
      "Matriks A:\n",
      "[[1 2 3]\n",
      " [4 5 6]]\n",
      "Dimensi matriks A: 2\n",
      "Bentuk matriks A: (2, 3)\n"
     ]
    }
   ],
   "source": [
    "import numpy as np\n",
    "\n",
    "# Membuat matriks 2x3 dari list bersarang\n",
    "list_bersarang = [[1, 2, 3], [4, 5, 6]]\n",
    "matriks_a = np.array(list_bersarang)\n",
    "\n",
    "print(f\"Matriks A:\\n{matriks_a}\")\n",
    "print(f\"Dimensi matriks A: {matriks_a.ndim}\")\n",
    "print(f\"Bentuk matriks A: {matriks_a.shape}\")"
   ]
  },
  {
   "cell_type": "markdown",
   "id": "fa3174d9-5daf-4e91-99e1-81c393896668",
   "metadata": {},
   "source": [
    "### - Matriks nol dan satu : Anda dapat membuat matriks yang diisi dengan nilai konstan, seperti nol atau satu, dengan menentukan dimensinya."
   ]
  },
  {
   "cell_type": "code",
   "execution_count": 50,
   "id": "51fe43ea-8e9d-4997-b83d-7beaa96176d6",
   "metadata": {},
   "outputs": [
    {
     "name": "stdout",
     "output_type": "stream",
     "text": [
      "Matriks Nol 3x3:\n",
      "[[0. 0. 0.]\n",
      " [0. 0. 0.]\n",
      " [0. 0. 0.]]\n",
      "\n",
      "Matriks Satu 2x4:\n",
      "[[1. 1. 1. 1.]\n",
      " [1. 1. 1. 1.]]\n"
     ]
    }
   ],
   "source": [
    "import numpy as np\n",
    "\n",
    "# Membuat matriks 3x3 yang diisi nol\n",
    "matriks_nol = np.zeros((3, 3))\n",
    "print(f\"Matriks Nol 3x3:\\n{matriks_nol}\")\n",
    "\n",
    "# Membuat matriks 2x4 yang diisi satu\n",
    "matriks_satu = np.ones((2, 4))\n",
    "print(f\"\\nMatriks Satu 2x4:\\n{matriks_satu}\")"
   ]
  },
  {
   "cell_type": "markdown",
   "id": "7a8c1857-b23c-467a-97c6-36375dc91d01",
   "metadata": {},
   "source": [
    "### - Matriks identitas : Matriks identitas adalah matriks persegi yang memiliki nilai satu di diagonalnya dan nol di tempat lain."
   ]
  },
  {
   "cell_type": "code",
   "execution_count": 48,
   "id": "f340c070-6856-49f1-bf01-b52edc7c1607",
   "metadata": {},
   "outputs": [
    {
     "name": "stdout",
     "output_type": "stream",
     "text": [
      "Matriks Identitas 4x4:\n",
      "[[1. 0. 0. 0.]\n",
      " [0. 1. 0. 0.]\n",
      " [0. 0. 1. 0.]\n",
      " [0. 0. 0. 1.]]\n"
     ]
    }
   ],
   "source": [
    "import numpy as np\n",
    "\n",
    "# Membuat matriks identitas 4x4\n",
    "matriks_identitas = np.identity(4)\n",
    "print(f\"Matriks Identitas 4x4:\\n{matriks_identitas}\")"
   ]
  },
  {
   "cell_type": "markdown",
   "id": "bd89d1f2-9225-466a-8aa6-b5f048d78c9d",
   "metadata": {},
   "source": [
    "### - Matriks dengan nilai diagonal tertentu : Anda dapat membuat matriks persegi dengan nilai-nilai yang Anda tentukan di diagonalnya."
   ]
  },
  {
   "cell_type": "code",
   "execution_count": 46,
   "id": "e70ecc9d-55ec-40a9-bdde-0a1ae5767e05",
   "metadata": {},
   "outputs": [
    {
     "name": "stdout",
     "output_type": "stream",
     "text": [
      "Matriks Diagonal:\n",
      "[[10  0  0]\n",
      " [ 0 20  0]\n",
      " [ 0  0 30]]\n"
     ]
    }
   ],
   "source": [
    "import numpy as np\n",
    "\n",
    "# Membuat matriks dengan nilai diagonal [10, 20, 30]\n",
    "matriks_diagonal = np.diag([10, 20, 30])\n",
    "print(f\"Matriks Diagonal:\\n{matriks_diagonal}\")"
   ]
  },
  {
   "cell_type": "markdown",
   "id": "ecb0a683-f552-48dc-9cf2-a71ee268178c",
   "metadata": {},
   "source": [
    "# Memanipulasi Matriks dan Operasi-Operasi Matriks\n",
    "\n",
    "#### Setelah membuat matriks, Anda dapat memanipulasi dan melakukan berbagai operasi matematika. NumPy sangat efisien dalam melakukan operasi ini karena menggunakan ekspresi vektorisasi.\n",
    "\n",
    "#### Definisi: Manipulasi matriks adalah proses mengubah bentuk atau isi matriks, sementara operasi matriks adalah penerapan fungsi matematika pada satu atau lebih matriks untuk menghasilkan matriks atau skalar baru.\n",
    "\n",
    "### - Mengakses elemen dan slicing\n",
    "\n",
    "#### Anda dapat mengakses elemen individual atau sub-matriks menggunakan indeks berbasis nol."
   ]
  },
  {
   "cell_type": "code",
   "execution_count": 44,
   "id": "94690b85-f334-4a13-baa8-5a4ecf2a90c4",
   "metadata": {},
   "outputs": [
    {
     "name": "stdout",
     "output_type": "stream",
     "text": [
      "Matriks B:\n",
      "[[10 11 12]\n",
      " [13 14 15]\n",
      " [16 17 18]]\n",
      "\n",
      "Elemen di B[1, 2]: 15\n",
      "\n",
      "Seluruh baris pertama: [10 11 12]\n",
      "\n",
      "Seluruh kolom kedua: [11 14 17]\n",
      "\n",
      "Sub-matriks:\n",
      "[[10 11]\n",
      " [13 14]]\n"
     ]
    }
   ],
   "source": [
    "import numpy as np\n",
    "\n",
    "matriks_b = np.array([[10, 11, 12], [13, 14, 15], [16, 17, 18]])\n",
    "print(f\"Matriks B:\\n{matriks_b}\")\n",
    "\n",
    "# Mengakses elemen di baris ke-2, kolom ke-3 (ingat, indeks dimulai dari 0)\n",
    "print(f\"\\nElemen di B[1, 2]: {matriks_b[1, 2]}\")\n",
    "\n",
    "# Mengambil seluruh baris pertama\n",
    "print(f\"\\nSeluruh baris pertama: {matriks_b[0, :]}\")\n",
    "\n",
    "# Mengambil seluruh kolom kedua\n",
    "print(f\"\\nSeluruh kolom kedua: {matriks_b[:, 1]}\")\n",
    "\n",
    "# Mengambil sub-matriks dari baris 1-2 dan kolom 1-2\n",
    "sub_matriks = matriks_b[0:2, 0:2]\n",
    "print(f\"\\nSub-matriks:\\n{sub_matriks}\")"
   ]
  },
  {
   "cell_type": "markdown",
   "id": "5882559f-e6c3-4717-af32-2b934a91fa69",
   "metadata": {},
   "source": [
    "### - Operasi Aritmatika\n",
    "\n",
    "#### Operasi aritmatika dasar (+, -, *, /) pada matriks NumPy dilakukan secara element-wise (elemen per elemen), bukan operasi matriks standar."
   ]
  },
  {
   "cell_type": "code",
   "execution_count": 40,
   "id": "e9045e01-74fc-4f86-9f3b-24d5d0dfec61",
   "metadata": {},
   "outputs": [
    {
     "name": "stdout",
     "output_type": "stream",
     "text": [
      "C + D:\n",
      "[[ 6  8]\n",
      " [10 12]]\n",
      "\n",
      "C * D (element-wise):\n",
      "[[ 5 12]\n",
      " [21 32]]\n",
      "\n",
      "C * 2:\n",
      "[[2 4]\n",
      " [6 8]]\n"
     ]
    }
   ],
   "source": [
    "import numpy as np\n",
    "\n",
    "matriks_c = np.array([[1, 2], [3, 4]])\n",
    "matriks_d = np.array([[5, 6], [7, 8]])\n",
    "\n",
    "# Penjumlahan matriks (element-wise)\n",
    "print(f\"C + D:\\n{matriks_c + matriks_d}\")\n",
    "\n",
    "# Perkalian matriks (element-wise)\n",
    "print(f\"\\nC * D (element-wise):\\n{matriks_c * matriks_d}\")\n",
    "\n",
    "# Perkalian matriks skalar\n",
    "print(f\"\\nC * 2:\\n{matriks_c * 2}\")"
   ]
  },
  {
   "cell_type": "markdown",
   "id": "1991032c-de07-4df1-95dd-073f3189c238",
   "metadata": {},
   "source": [
    "### - Perkalian matriks (dot product)\n",
    "\n",
    "#### Untuk melakukan perkalian matriks standar (dot product), Anda dapat menggunakan fungsi np.dot() atau operator @."
   ]
  },
  {
   "cell_type": "code",
   "execution_count": 42,
   "id": "6310733c-fdca-4163-927b-3d59b3011836",
   "metadata": {},
   "outputs": [
    {
     "name": "stdout",
     "output_type": "stream",
     "text": [
      "C . D (menggunakan np.dot):\n",
      "[[19 22]\n",
      " [43 50]]\n",
      "\n",
      "C @ D (menggunakan operator @):\n",
      "[[19 22]\n",
      " [43 50]]\n"
     ]
    }
   ],
   "source": [
    "import numpy as np\n",
    "\n",
    "matriks_c = np.array([[1, 2], [3, 4]])\n",
    "matriks_d = np.array([[5, 6], [7, 8]])\n",
    "\n",
    "# Perkalian matriks dengan np.dot()\n",
    "dot_product_a = np.dot(matriks_c, matriks_d)\n",
    "print(f\"C . D (menggunakan np.dot):\\n{dot_product_a}\")\n",
    "\n",
    "# Perkalian matriks dengan operator @\n",
    "dot_product_b = matriks_c @ matriks_d\n",
    "print(f\"\\nC @ D (menggunakan operator @):\\n{dot_product_b}\")"
   ]
  },
  {
   "cell_type": "markdown",
   "id": "84fbf811-eb00-4a26-acc3-52ba3207776e",
   "metadata": {},
   "source": [
    "# Membuat Array Multidimensi\n",
    "\n",
    "#### NumPy tidak hanya terbatas pada matriks dua dimensi. Anda dapat membuat array dengan dimensi apa pun, yang sering disebut tensor.\n",
    "\n",
    "#### Definisi: Array multidimensi adalah struktur data yang dapat menyimpan data dalam lebih dari dua dimensi, seperti 3D (panjang, lebar, tinggi) atau lebih.\n",
    "\n",
    "### - Membuat array 3 dimensi\n",
    "\n",
    "#### Anda bisa membuat array 3D dari list bersarang yang lebih dalam, atau menggunakan fungsi khusus seperti np.random.rand()."
   ]
  },
  {
   "cell_type": "code",
   "execution_count": 38,
   "id": "565f99aa-a55e-4937-9b82-349712228cb3",
   "metadata": {},
   "outputs": [
    {
     "name": "stdout",
     "output_type": "stream",
     "text": [
      "Array 3D dari list:\n",
      "[[[1 2]\n",
      "  [3 4]]\n",
      "\n",
      " [[5 6]\n",
      "  [7 8]]]\n",
      "Dimensi: 3\n",
      "Bentuk: (2, 2, 2)\n",
      "\n",
      "Array 3D acak 2x3x4:\n",
      "[[[0.37162332 0.5299344  0.05499921 0.83050913]\n",
      "  [0.87172279 0.69143555 0.77134505 0.97176812]\n",
      "  [0.53836273 0.35942234 0.79337193 0.63863433]]\n",
      "\n",
      " [[0.05668043 0.70105509 0.40199316 0.60565059]\n",
      "  [0.41824925 0.29242694 0.19299766 0.60831186]\n",
      "  [0.91728469 0.34403185 0.75235491 0.75013276]]]\n"
     ]
    }
   ],
   "source": [
    "import numpy as np\n",
    "\n",
    "# Membuat array 3D dari list bersarang\n",
    "array_3d_list = [[[1, 2], [3, 4]], [[5, 6], [7, 8]]]\n",
    "array_3d_a = np.array(array_3d_list)\n",
    "\n",
    "print(f\"Array 3D dari list:\\n{array_3d_a}\")\n",
    "print(f\"Dimensi: {array_3d_a.ndim}\")\n",
    "print(f\"Bentuk: {array_3d_a.shape}\")\n",
    "\n",
    "# Membuat array 3D yang diisi angka acak\n",
    "array_3d_b = np.random.rand(2, 3, 4)\n",
    "print(f\"\\nArray 3D acak 2x3x4:\\n{array_3d_b}\")"
   ]
  },
  {
   "cell_type": "markdown",
   "id": "67fe512b-887c-4610-a0bf-578666589b66",
   "metadata": {},
   "source": [
    "### - Mengubah bentuk (Reshaping)\n",
    "\n",
    "#### Anda dapat mengubah bentuk array yang sudah ada asalkan jumlah total elemennya tetap sama."
   ]
  },
  {
   "cell_type": "code",
   "execution_count": 36,
   "id": "3c6552d5-53f8-4f5d-81d4-199ddfdeff47",
   "metadata": {},
   "outputs": [
    {
     "name": "stdout",
     "output_type": "stream",
     "text": [
      "Array 1D:\n",
      "[ 0  1  2  3  4  5  6  7  8  9 10 11]\n",
      "Bentuk awal: (12,)\n",
      "\n",
      "Matriks 3x4 hasil reshape:\n",
      "[[ 0  1  2  3]\n",
      " [ 4  5  6  7]\n",
      " [ 8  9 10 11]]\n",
      "Bentuk baru: (3, 4)\n",
      "\n",
      "Array 3D hasil reshape:\n",
      "[[[ 0  1  2]\n",
      "  [ 3  4  5]]\n",
      "\n",
      " [[ 6  7  8]\n",
      "  [ 9 10 11]]]\n",
      "Bentuk baru: (2, 2, 3)\n"
     ]
    }
   ],
   "source": [
    "import numpy as np\n",
    "\n",
    "# Membuat array 1 dimensi dengan 12 elemen\n",
    "array_1d = np.arange(12)\n",
    "print(f\"Array 1D:\\n{array_1d}\")\n",
    "print(f\"Bentuk awal: {array_1d.shape}\")\n",
    "\n",
    "# Mengubahnya menjadi matriks 3x4\n",
    "matriks_baru = array_1d.reshape(3, 4)\n",
    "print(f\"\\nMatriks 3x4 hasil reshape:\\n{matriks_baru}\")\n",
    "print(f\"Bentuk baru: {matriks_baru.shape}\")\n",
    "\n",
    "# Mengubah matriks 3x4 menjadi array 2x2x3\n",
    "array_3d_c = matriks_baru.reshape(2, 2, 3)\n",
    "print(f\"\\nArray 3D hasil reshape:\\n{array_3d_c}\")\n",
    "print(f\"Bentuk baru: {array_3d_c.shape}\")"
   ]
  },
  {
   "cell_type": "markdown",
   "id": "011af89e-dc49-497b-affd-85f3f64c9176",
   "metadata": {},
   "source": [
    "### - Menggabungkan array\n",
    "\n",
    "#### Anda dapat menggabungkan beberapa array menjadi satu array yang lebih besar."
   ]
  },
  {
   "cell_type": "code",
   "execution_count": 34,
   "id": "735a7ff1-b06d-4bad-a04a-57046f049384",
   "metadata": {},
   "outputs": [
    {
     "name": "stdout",
     "output_type": "stream",
     "text": [
      "Hasil gabung vertikal:\n",
      "[[1 2]\n",
      " [3 4]\n",
      " [5 6]\n",
      " [7 8]]\n",
      "\n",
      "Hasil gabung horizontal:\n",
      "[[1 2 5 6]\n",
      " [3 4 7 8]]\n"
     ]
    }
   ],
   "source": [
    "import numpy as np\n",
    "\n",
    "a = np.array([[1, 2], [3, 4]])\n",
    "b = np.array([[5, 6], [7, 8]])\n",
    "\n",
    "# Menggabungkan secara vertikal (seperti menyusun baris)\n",
    "gabung_vertikal = np.vstack((a, b))\n",
    "print(f\"Hasil gabung vertikal:\\n{gabung_vertikal}\")\n",
    "\n",
    "# Menggabungkan secara horizontal (seperti menyusun kolom)\n",
    "gabung_horizontal = np.hstack((a, b))\n",
    "print(f\"\\nHasil gabung horizontal:\\n{gabung_horizontal}\")"
   ]
  }
 ],
 "metadata": {
  "kernelspec": {
   "display_name": "Python 3 (ipykernel)",
   "language": "python",
   "name": "python3"
  },
  "language_info": {
   "codemirror_mode": {
    "name": "ipython",
    "version": 3
   },
   "file_extension": ".py",
   "mimetype": "text/x-python",
   "name": "python",
   "nbconvert_exporter": "python",
   "pygments_lexer": "ipython3",
   "version": "3.12.4"
  }
 },
 "nbformat": 4,
 "nbformat_minor": 5
}
