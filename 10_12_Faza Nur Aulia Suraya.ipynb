{
 "cells": [
  {
   "cell_type": "markdown",
   "id": "74366d41-c529-4b2b-a6df-3981ad343ac1",
   "metadata": {},
   "source": [
    "## 1. Elementwise Function\n",
    "\n",
    "Elementwise function adalah fungsi yang bekerja pada setiap elemen array secara terpisah. Contohnya adalah fungsi matematis bawaan NumPy seperti `np.sin`, `np.sqrt`, dan `np.exp`. Operator aritmetika (`+`, `-`, `*`, `/`, `**`) juga berjalan secara elementwise pada array dengan ukuran sama.\n",
    "\n",
    "Konsep ini memudahkan perhitungan numerik karena tidak perlu melakukan perulangan manual. Meskipun tersedia `np.vectorize` untuk menjadikan fungsi skalar sebagai elementwise function, pendekatan tersebut biasanya lebih lambat dibandingkan operasi vektoris bawaan NumPy atau manipulasi fungsi boolean arithmetic."
   ]
  },
  {
   "cell_type": "markdown",
   "id": "74e8332c-fc49-437a-9830-23d25172b53a",
   "metadata": {},
   "source": [
    "##### Contoh Kode :"
   ]
  },
  {
   "cell_type": "code",
   "execution_count": 15,
   "id": "e7590443-b862-4a5a-b1ae-f370822b324a",
   "metadata": {},
   "outputs": [
    {
     "name": "stdout",
     "output_type": "stream",
     "text": [
      "[-0.     -0.5878 -0.9511 -0.9511 -0.5878  0.      0.5878  0.9511  0.9511\n",
      "  0.5878  0.    ]\n"
     ]
    }
   ],
   "source": [
    "import numpy as np\n",
    "\n",
    "# fungsi elementwise\n",
    "x = np.linspace(-1, 1, 11)\n",
    "print(np.round(np.sin(np.pi * x), 4))"
   ]
  },
  {
   "cell_type": "code",
   "execution_count": 9,
   "id": "e54c6f90-bae1-409f-bb9b-64026b2f63ed",
   "metadata": {},
   "outputs": [
    {
     "name": "stdout",
     "output_type": "stream",
     "text": [
      "[10 40 90]\n"
     ]
    }
   ],
   "source": [
    "import numpy as np\n",
    "\n",
    "# operator elementwise\n",
    "a = np.array([1, 2, 3])\n",
    "b = np.array([10, 20, 30])\n",
    "print(a * b)   # [10 40 90]"
   ]
  },
  {
   "cell_type": "code",
   "execution_count": 17,
   "id": "24d38e26-9f6f-46e5-b8a5-48b0584530bd",
   "metadata": {},
   "outputs": [
    {
     "name": "stdout",
     "output_type": "stream",
     "text": [
      "[0 0 0 1 1 1 1 1 1 0 0]\n"
     ]
    }
   ],
   "source": [
    "import numpy as np\n",
    "\n",
    "# fungsi piecewise sederhana\n",
    "def pulse(x, position, height, width):\n",
    "    return height * (x >= position) * (x <= (position + width))\n",
    "\n",
    "x2 = np.linspace(-5, 5, 11)\n",
    "print(pulse(x2, -2, 1, 5))"
   ]
  },
  {
   "cell_type": "markdown",
   "id": "4e10231f-0d6a-444e-a120-f765f525170b",
   "metadata": {},
   "source": [
    "## 2. Melakukan Agregasi Beberapa Array\n",
    "\n",
    "Agregasi pada array bertujuan merangkum nilai-nilai elemen menjadi informasi ringkas berupa skalar atau array berdimensi lebih rendah. Contoh umum adalah fungsi `sum`, `mean`, `min`, `max`, dan `std`.\n",
    "\n",
    "Argumen `axis` mengontrol arah agregasi. Jika `axis=0`, perhitungan dilakukan sepanjang baris sehingga hasilnya per kolom. Jika `axis=1`, perhitungan dilakukan sepanjang kolom sehingga hasilnya per baris. Tanpa argumen `axis`, seluruh elemen array akan teragregasi menjadi satu nilai.\n",
    "\n",
    "Untuk fungsi seperti `var` dan `std`, parameter `ddof` memungkinkan pemilihan antara varian populasi (`ddof=0`) atau varian sampel (`ddof=1`)."
   ]
  },
  {
   "cell_type": "markdown",
   "id": "95c0379a-ce3f-49e3-a938-e1576c9a5361",
   "metadata": {},
   "source": [
    "##### Contoh Kode :"
   ]
  },
  {
   "cell_type": "code",
   "execution_count": 22,
   "id": "2801c5e6-e60f-43f8-b76a-ba83bb278c8d",
   "metadata": {},
   "outputs": [
    {
     "name": "stdout",
     "output_type": "stream",
     "text": [
      "[[1 2 3]\n",
      " [4 5 6]\n",
      " [7 8 9]]\n",
      "Total semua elemen: 45\n",
      "Jumlah per kolom: [12 15 18]\n",
      "Jumlah per baris: [ 6 15 24]\n",
      "Rata-rata semua elemen: 0.5693345929456347\n",
      "Rata-rata per kolom: [ 1.15670166 -0.05000108  0.56596018  0.60467762]\n"
     ]
    }
   ],
   "source": [
    "import numpy as np\n",
    "\n",
    "data = np.arange(1,10).reshape(3,3)\n",
    "print(data)\n",
    "\n",
    "print(\"Total semua elemen:\", data.sum())        \n",
    "print(\"Jumlah per kolom:\", data.sum(axis=0))    \n",
    "print(\"Jumlah per baris:\", data.sum(axis=1))    \n",
    "\n",
    "# agregasi statistik\n",
    "rng = np.random.RandomState(0)\n",
    "x = rng.normal(size=(5,4))\n",
    "print(\"Rata-rata semua elemen:\", x.mean())\n",
    "print(\"Rata-rata per kolom:\", x.mean(axis=0))"
   ]
  },
  {
   "cell_type": "markdown",
   "id": "d1757b38-15a2-4df8-bdce-096105f2504b",
   "metadata": {},
   "source": [
    "## 3. Melakukan Operasi dengan Logika Himpunan\n",
    "\n",
    "NumPy menyediakan fungsi khusus untuk operasi himpunan yang bekerja secara vektoris pada array. Operasi tersebut meliputi pengujian keanggotaan, pencarian elemen unik, serta pencarian irisan, gabungan, dan selisih antarhimpunan.\n",
    "\n",
    "Fungsi yang sering digunakan antara lain:\n",
    "- `np.in1d(a, b)` untuk menghasilkan array boolean yang menunjukkan apakah elemen a terdapat dalam b.\n",
    "- `np.unique(a)` untuk menghasilkan array berisi elemen unik dari a.\n",
    "- `np.union1d(a, b)` untuk menghasilkan gabungan unik dari a dan b.\n",
    "- `np.intersect1d(a, b)` untuk menghasilkan irisan antara a dan b.\n",
    "- `np.setdiff1d(a, b)` untuk menghasilkan elemen dalam a yang tidak ada di b."
   ]
  },
  {
   "cell_type": "markdown",
   "id": "13bf6bfb-dc6b-438d-b533-4d391f8f469a",
   "metadata": {},
   "source": [
    "##### Contoh Kode :"
   ]
  },
  {
   "cell_type": "code",
   "execution_count": 29,
   "id": "1d8f7271-2a06-4150-b52a-d09e95fad796",
   "metadata": {},
   "outputs": [
    {
     "name": "stdout",
     "output_type": "stream",
     "text": [
      "[False False False  True  True]\n",
      "[4 5]\n",
      "[1 2 3 4 5 6 7]\n",
      "[1 2 3]\n",
      "[1 2 3 4]\n"
     ]
    }
   ],
   "source": [
    "import numpy as np\n",
    "\n",
    "a = np.array([1,2,3,4,5])\n",
    "b = np.array([4,5,6,7])\n",
    "\n",
    "print(np.in1d(a, b))         \n",
    "print(np.intersect1d(a, b))  \n",
    "print(np.union1d(a, b))      \n",
    "print(np.setdiff1d(a, b))    \n",
    "\n",
    "c = np.array([1,2,2,3,1,4])\n",
    "print(np.unique(c))          "
   ]
  },
  {
   "cell_type": "markdown",
   "id": "fc8a4eac-38b1-41ab-9437-8f0c4180a0b8",
   "metadata": {},
   "source": [
    "Note : Pendekatan ini efisien untuk array numerik berukuran besar, sedangkan tipe `set` bawaan Python lebih fleksibel untuk data non-numerik atau objek kompleks."
   ]
  }
 ],
 "metadata": {
  "kernelspec": {
   "display_name": "Python 3 (ipykernel)",
   "language": "python",
   "name": "python3"
  },
  "language_info": {
   "codemirror_mode": {
    "name": "ipython",
    "version": 3
   },
   "file_extension": ".py",
   "mimetype": "text/x-python",
   "name": "python",
   "nbconvert_exporter": "python",
   "pygments_lexer": "ipython3",
   "version": "3.12.4"
  }
 },
 "nbformat": 4,
 "nbformat_minor": 5
}
