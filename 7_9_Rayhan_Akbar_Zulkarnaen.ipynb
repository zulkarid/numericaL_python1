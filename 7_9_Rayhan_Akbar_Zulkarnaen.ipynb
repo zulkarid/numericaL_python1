{
  "nbformat": 4,
  "nbformat_minor": 0,
  "metadata": {
    "colab": {
      "provenance": []
    },
    "kernelspec": {
      "name": "python3",
      "display_name": "Python 3"
    },
    "language_info": {
      "name": "python"
    }
  },
  "cells": [
    {
      "cell_type": "markdown",
      "source": [
        "**1. Mengetahui Index Elemen pada Array.**\n",
        " Definisi: Index adalah posisi elemen dalam array. NumPy menggunakan indexing mulai dari 0 (zero-based indexing). Kita bisa mengakses satu elemen, beberapa elemen, bahkan potongan array (slicing)."
      ],
      "metadata": {
        "id": "Yw3-Qp2tO2QT"
      }
    },
    {
      "cell_type": "code",
      "execution_count": 2,
      "metadata": {
        "colab": {
          "base_uri": "https://localhost:8080/"
        },
        "id": "eY2hBpeqNZAB",
        "outputId": "23d6f4af-49d1-4855-8745-c62ce4b33923"
      },
      "outputs": [
        {
          "output_type": "stream",
          "name": "stdout",
          "text": [
            "elemen index ke-0: 10\n",
            "elemen index ke-2: 30\n",
            "elemen index 1 sampai 3: [20 30 40]\n",
            "elemen baris 0, kolom 2: 3\n",
            "baris ke-1: [4 5 6]\n"
          ]
        }
      ],
      "source": [
        "import numpy as np\n",
        "\n",
        "arr = np.array([10, 20, 30, 40, 50]) #Membuat array 1D\n",
        "\n",
        "#Mengakses elemen berdasarkan index\n",
        "print(\"elemen index ke-0:\", arr[0])    #10\n",
        "print(\"elemen index ke-2:\", arr[2])    #30\n",
        "\n",
        "#Menggunakan slicing\n",
        "print(\"elemen index 1 sampai 3:\", arr[1:4])  #[20 30 40]\n",
        "\n",
        "#Array 2D\n",
        "arr2d = np.array([[1, 2, 3], [4, 5, 6]])\n",
        "print(\"elemen baris 0, kolom 2:\", arr2d[0, 2])  #3\n",
        "print(\"baris ke-1:\", arr2d[1])                  #[4 5 6]\n"
      ]
    },
    {
      "cell_type": "markdown",
      "source": [
        "**2. Mengimplementasikan Operasi Logika Matematika Menggunakan Boolean**. Definisi:\n",
        "Penggunaan operasi logika dengan boolean pada NumPy menghasilkan array berisi *True* atau *False* berdasarkan kondisi tertentu. Biasanya ini dipakai untuk melakukan filtering atau masking data."
      ],
      "metadata": {
        "id": "OdXI5RJ4O0x5"
      }
    },
    {
      "cell_type": "code",
      "source": [
        "import numpy as np\n",
        "\n",
        "arr = np.array([5, 10, 15, 20, 25])\n",
        "\n",
        "# Kondisi logika\n",
        "print(\"apakah elemen > 10?\")\n",
        "print(arr > 10)  # [False False  True  True  True]\n",
        "\n",
        "# Memfilter elemen yang sesuai kondisi\n",
        "print(\"elemen lebih dari 10:\", arr[arr > 10])  # [15 20 25]\n",
        "\n",
        "# Menggabungkan logika\n",
        "print(\"elemen antara 10 dan 20:\", arr[(arr >= 10) & (arr <= 20)])  # [10 15 20]\n"
      ],
      "metadata": {
        "colab": {
          "base_uri": "https://localhost:8080/"
        },
        "id": "Ckui3zEoQE-f",
        "outputId": "e6fe7f53-8942-4210-cb10-54efdc95b12d"
      },
      "execution_count": 3,
      "outputs": [
        {
          "output_type": "stream",
          "name": "stdout",
          "text": [
            "apakah elemen > 10?\n",
            "[False False  True  True  True]\n",
            "elemen lebih dari 10: [15 20 25]\n",
            "elemen antara 10 dan 20: [10 15 20]\n"
          ]
        }
      ]
    },
    {
      "cell_type": "markdown",
      "source": [
        "**3. Melakukan Operasi Aritmatika**. Definisi:\n",
        "NumPy memungkinkan operasi aritmatika dilakukan langsung pada seluruh array tanpa perlu perulangan (vectorized operation). Operasi ini mencakup penjumlahan, pengurangan, perkalian, pembagian, pangkat, dll."
      ],
      "metadata": {
        "id": "M1n7Co9NQlmK"
      }
    },
    {
      "cell_type": "code",
      "source": [
        "import numpy as np\n",
        "\n",
        "arr1 = np.array([1, 2, 3, 4, 5])\n",
        "arr2 = np.array([10, 20, 30, 40, 50])\n",
        "\n",
        "# Penjumlahan\n",
        "print(\"penjumlahan:\", arr1 + arr2)  # [11 22 33 44 55]\n",
        "\n",
        "# Pengurangan\n",
        "print(\"pengurangan:\", arr2 - arr1)  # [ 9 18 27 36 45]\n",
        "\n",
        "# Perkalian\n",
        "print(\"perkalian:\", arr1 * 2)       # [ 2  4  6  8 10]\n",
        "\n",
        "# Pembagian\n",
        "print(\"pembagian:\", arr2 / arr1)    # [10. 10. 10. 10. 10.]\n",
        "\n",
        "# Pangkat\n",
        "print(\"pangkat:\", arr1 ** 2)        # [ 1  4  9 16 25]\n"
      ],
      "metadata": {
        "id": "m3LO4ekKQ5Be"
      },
      "execution_count": null,
      "outputs": []
    }
  ]
}