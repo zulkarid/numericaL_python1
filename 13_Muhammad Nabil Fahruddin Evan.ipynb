{
 "cells": [
  {
   "cell_type": "markdown",
   "id": "d310a5a2-2dee-4e0c-9c47-c702dda8a67e",
   "metadata": {},
   "source": [
    "**4. Memanipulasi Array**\n",
    "\n",
    "**Definisi:** Manipulasi array adalah proses mengubah bentuk (shape), susunan, atau elemen dari sebuah array yang sudah ada untuk disesuaikan dengan kebutuhan analisis.Operasi ini umumnya tidak mengubah data tetapi hanya cara data tersebut diinterpretasikan."
   ]
  },
  {
   "cell_type": "markdown",
   "id": "b13ff875-a34e-426b-b53c-c5f5b15b9d18",
   "metadata": {},
   "source": [
    "**a. Mengubah Bentuk dan Ukuran (Reshaping and Resizing)**\n",
    "\n",
    "**Definisi:** Fungsi reshape() digunakan untuk mengubah jumlah baris dan kolom dari sebuah array tanpa mengubah total elemennya. fungsi ini hanya mengubah atribut strides dari array, bukan memodifikasi data yang tersimpan di memori.\n",
    "\n",
    "resize() akan mengubah ukuran array secara permanen dan bisa mengisi nilai baru jika ukurannya lebih besar.`"
   ]
  },
  {
   "cell_type": "code",
   "execution_count": 7,
   "id": "eed0b799-af84-4046-9e01-71c2d0e47b90",
   "metadata": {},
   "outputs": [
    {
     "name": "stdout",
     "output_type": "stream",
     "text": [
      "Array awal (1x12):\n",
      " [ 0  1  2  3  4  5  6  7  8  9 10 11]\n",
      "\n",
      "Hasil reshape (3x4):\n",
      " [[ 0  1  2  3]\n",
      " [ 4  5  6  7]\n",
      " [ 8  9 10 11]]\n",
      "\n",
      "Hasil flatten:\n",
      " [ 0  1  2  3  4  5  6  7  8  9 10 11]\n"
     ]
    }
   ],
   "source": [
    "import numpy as np\n",
    "\n",
    "# Membuat array 1D dengan 12 elemen\n",
    "data = np.arange(12)\n",
    "print(\"Array awal (1x12):\\n\", data)\n",
    "\n",
    "# Mengubah bentuk menjadi matriks 3 baris 4 kolom (3x4)\n",
    "# Total elemen harus tetap sama (3 * 4 = 12)\n",
    "data_reshaped = data.reshape(3, 4)\n",
    "print(\"\\nHasil reshape (3x4):\\n\", data_reshaped)\n",
    "\n",
    "# Meratakan kembali array menjadi 1D\n",
    "data_flattened = data_reshaped.flatten()\n",
    "print(\"\\nHasil flatten:\\n\", data_flattened)"
   ]
  },
  {
   "cell_type": "markdown",
   "id": "b82446ad-cb45-4e35-80fe-f028a3990c3f",
   "metadata": {},
   "source": [
    "**b. Menggabungkan Array (Concatenate/Stacking)**\n",
    "\n",
    "**Definisi:** Menggabungkan beberapa array menjadi satu array yang lebih besar. "
   ]
  },
  {
   "cell_type": "code",
   "execution_count": 17,
   "id": "01a04df0-b2f8-4305-b198-98a811cdccd3",
   "metadata": {},
   "outputs": [
    {
     "name": "stdout",
     "output_type": "stream",
     "text": [
      "Gabungan Vertikal (vstack):\n",
      " [[1 2]\n",
      " [3 4]\n",
      " [5 6]\n",
      " [7 8]]\n",
      "\n",
      "Gabungan Horizontal (hstack):\n",
      " [[1 2 5 6]\n",
      " [3 4 7 8]]\n"
     ]
    }
   ],
   "source": [
    "import numpy as np\n",
    "\n",
    "arr1 = np.array([[1, 2], [3, 4]])\n",
    "arr2 = np.array([[5, 6], [7, 8]])\n",
    "\n",
    "gabung_vertikal = np.vstack((arr1, arr2)) # Menggabungkan secara vertikal (menambah baris)\n",
    "print(\"Gabungan Vertikal (vstack):\\n\", gabung_vertikal) # Hasilnya adalah matriks 4x2\n",
    "\n",
    "gabung_horizontal = np.hstack((arr1, arr2)) # Menggabungkan secara horizontal (menambah kolom)\n",
    "print(\"\\nGabungan Horizontal (hstack):\\n\", gabung_horizontal) # Hasilnya adalah matriks 2x4"
   ]
  },
  {
   "cell_type": "markdown",
   "id": "131fbbd0-9e36-4e11-8205-9b4f9e460567",
   "metadata": {},
   "source": [
    "**c. Memisahkan Array (Splitting)**\n",
    "\n",
    "**Definisi:** Kebalikan dari penggabungan, yaitu memecah satu array besar menjadi beberapa array yang lebih kecil. Ini dapat dilakukan dengan fungsi np.split() , np.hsplit() ,dan np.vsplit()."
   ]
  },
  {
   "cell_type": "code",
   "execution_count": 24,
   "id": "e4adee25-9134-480c-9407-02bed20325ce",
   "metadata": {},
   "outputs": [
    {
     "name": "stdout",
     "output_type": "stream",
     "text": [
      "Array Awal:\n",
      " [[ 0  1  2  3]\n",
      " [ 4  5  6  7]\n",
      " [ 8  9 10 11]\n",
      " [12 13 14 15]]\n",
      "\n",
      "Hasil hsplit menjadi 2 bagian:\n",
      "Bagian 1:\n",
      " [[ 0  1]\n",
      " [ 4  5]\n",
      " [ 8  9]\n",
      " [12 13]]\n",
      "Bagian 2:\n",
      " [[ 2  3]\n",
      " [ 6  7]\n",
      " [10 11]\n",
      " [14 15]]\n",
      "\n",
      "Hasil vsplit menjadi 4 bagian:\n",
      "[array([[0, 1, 2, 3]]), array([[4, 5, 6, 7]]), array([[ 8,  9, 10, 11]]), array([[12, 13, 14, 15]])]\n"
     ]
    }
   ],
   "source": [
    "import numpy as np\n",
    "\n",
    "arr = np.arange(16).reshape(4, 4)\n",
    "print(\"Array Awal:\\n\", arr)\n",
    "\n",
    "# Memisahkan array secara horizontal menjadi 2 bagian yang sama besar\n",
    "hasil_hsplit = np.hsplit(arr, 2)\n",
    "print(\"\\nHasil hsplit menjadi 2 bagian:\")\n",
    "print(\"Bagian 1:\\n\", hasil_hsplit[0])\n",
    "print(\"Bagian 2:\\n\", hasil_hsplit[1])\n",
    "\n",
    "# Memisahkan array secara vertikal menjadi 4 bagian\n",
    "hasil_vsplit = np.vsplit(arr, 4)\n",
    "print(\"\\nHasil vsplit menjadi 4 bagian:\")\n",
    "print(hasil_vsplit)"
   ]
  },
  {
   "cell_type": "markdown",
   "id": "f7eff538-3bd9-4521-a8f1-ef881d3cfcd8",
   "metadata": {},
   "source": [
    "**d. Menambah dan Menghapus Elemen**\n",
    "\n",
    "**Definisi:** NumPy menyediakan fungsi seperti np.append() , np.insert() , dan np.delete() untuk menambah atau menghapus elemen.fungsi ini tidak mengubah array asli tetapi membuat salinan baru dari array dengan ukuran yang telah diubah"
   ]
  },
  {
   "cell_type": "code",
   "execution_count": 31,
   "id": "23d73d9b-0373-40bb-b147-5cd4b2978ebd",
   "metadata": {},
   "outputs": [
    {
     "name": "stdout",
     "output_type": "stream",
     "text": [
      "Array awal: [10 20 30 40 50]\n",
      "Setelah ditambah 60: [10 20 30 40 50 60]\n",
      "Setelah disisipkan 25 di index 2: [10 20 25 30 40 50]\n",
      "Setelah elemen index 3 dihapus: [10 20 30 50]\n",
      "Array asli setelah semua operasi: [10 20 30 40 50]\n"
     ]
    }
   ],
   "source": [
    "import numpy as np\n",
    "\n",
    "array_awal = np.array([10, 20, 30, 40, 50])\n",
    "print(\"Array awal:\", arr)\n",
    "\n",
    "# Menambahkan elemen 60 di akhir array\n",
    "arr_appended = np.append(array_awal, 60)\n",
    "print(\"Setelah ditambah 60:\", arr_appended)\n",
    "\n",
    "# Menyisipkan elemen 25 di index ke-2\n",
    "arr_inserted = np.insert(array_awal, 2, 25)\n",
    "print(\"Setelah disisipkan 25 di index 2:\", arr_inserted)\n",
    "\n",
    "# Menghapus elemen di index ke-3 (angka 40)\n",
    "arr_deleted = np.delete(array_awal, 3)\n",
    "print(\"Setelah elemen index 3 dihapus:\", arr_deleted)\n",
    "\n",
    "# Array asli tidak berubah\n",
    "print(\"Array asli setelah semua operasi:\", array_awal)"
   ]
  },
  {
   "cell_type": "code",
   "execution_count": null,
   "id": "cffe4838-cfe4-40f2-ba94-a0df84455408",
   "metadata": {},
   "outputs": [],
   "source": []
  }
 ],
 "metadata": {
  "kernelspec": {
   "display_name": "Python 3 (ipykernel)",
   "language": "python",
   "name": "python3"
  },
  "language_info": {
   "codemirror_mode": {
    "name": "ipython",
    "version": 3
   },
   "file_extension": ".py",
   "mimetype": "text/x-python",
   "name": "python",
   "nbconvert_exporter": "python",
   "pygments_lexer": "ipython3",
   "version": "3.12.4"
  }
 },
 "nbformat": 4,
 "nbformat_minor": 5
}
