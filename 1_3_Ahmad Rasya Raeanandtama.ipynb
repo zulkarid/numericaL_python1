{
  "nbformat": 4,
  "nbformat_minor": 0,
  "metadata": {
    "colab": {
      "provenance": []
    },
    "kernelspec": {
      "name": "python3",
      "display_name": "Python 3"
    },
    "language_info": {
      "name": "python"
    }
  },
  "cells": [
    {
      "cell_type": "markdown",
      "source": [
        "MENGENALI KARAKTERISTIK DATA\n",
        "\n",
        "Mengenali karakteristik data adalah proses memahami sifat dasar data sebelum dianalisis lebih lanjut.\n",
        "Tujuannya agar kita tahu bagaimana data tersebut bisa diproses, divisualisasikan, atau dipakai dalam model.\n",
        "\n",
        "Karakteristik data biasanya dilihat dari:\n",
        "\n",
        "- Struktur data → apakah teratur (tabel, array) atau tidak (teks, gambar).\n",
        "\n",
        "- Jenis data → kategorikal, ordinal, numerik diskrit, atau numerik kontinu.\n",
        "\n",
        "- Tipe data → integer, float, string, boolean.\n",
        "\n",
        "- Informasi tambahan (metadata) → seperti jumlah dimensi, ukuran, dan bentuk data."
      ],
      "metadata": {
        "id": "WqAhLdh3TATv"
      }
    },
    {
      "cell_type": "code",
      "source": [
        "# CONTOH\n",
        "import numpy as np\n",
        "\n",
        "data = np.array([[1.5, 2.3, 3.1],\n",
        "                 [4.2, 5.8, 6.7]])\n",
        "\n",
        "print(\"Isi data:\\n\", data)\n",
        "print(\"Shape  :\", data.shape)   # (2, 3) → 2 baris, 3 kolom\n",
        "print(\"Size   :\", data.size)    # 6 elemen\n",
        "print(\"Dtype  :\", data.dtype)   # float64\n",
        "print(\"Ndim   :\", data.ndim)    # 2 dimensi\n"
      ],
      "metadata": {
        "colab": {
          "base_uri": "https://localhost:8080/"
        },
        "id": "ISa1A0tYTbtd",
        "outputId": "8e7cef1e-a3de-4465-fad1-61e6e9ebf2a0"
      },
      "execution_count": 1,
      "outputs": [
        {
          "output_type": "stream",
          "name": "stdout",
          "text": [
            "Isi data:\n",
            " [[1.5 2.3 3.1]\n",
            " [4.2 5.8 6.7]]\n",
            "Shape  : (2, 3)\n",
            "Size   : 6\n",
            "Dtype  : float64\n",
            "Ndim   : 2\n"
          ]
        }
      ]
    },
    {
      "cell_type": "markdown",
      "source": [
        "TIPE DATA\n",
        "\n",
        "Tipe data (dtype) adalah atribut dari array (ndarray) yang menunjukkan jenis data dari setiap elemen di dalam array.\n",
        "\n",
        "Array NumPy tidak bisa langsung mengubah tipe data. Jika ingin mengganti, harus menggunakan konversi (astype) atau membuat array baru.\n",
        "\n",
        "Operasi antar array bisa menyebabkan promosi tipe (type promotion). Misalnya:\n",
        "\n",
        "- Integer + Float → hasil otomatis menjadi Float.\n",
        "\n",
        "- Float + Complex → hasil otomatis menjadi Complex.\n",
        "\n",
        "Python biasa hanya punya tipe umum (int, float), tapi NumPy lebih detail karena memungkinkan memilih ukuran bit (misalnya int32 vs int64) sesuai kebutuhan memori dan performa."
      ],
      "metadata": {
        "id": "LR7gZ7umUBNg"
      }
    },
    {
      "cell_type": "code",
      "source": [
        "#CONTOH\n",
        "\n",
        "import numpy as np\n",
        "\n",
        "# 1. Integer\n",
        "a = np.array([1, 2, 3], dtype=np.int32)\n",
        "print(\"Array a :\", a)\n",
        "print(\"Tipe data a:\", a.dtype)\n",
        "\n",
        "# 2. Unsigned Integer\n",
        "b = np.array([1, 2, 3], dtype=np.uint8)\n",
        "print(\"\\nArray b :\", b)\n",
        "print(\"Tipe data b:\", b.dtype)\n",
        "\n",
        "# 3. Float\n",
        "c = np.array([1, 2, 3], dtype=np.float64)\n",
        "print(\"\\nArray c :\", c)\n",
        "print(\"Tipe data c:\", c.dtype)\n",
        "\n",
        "# 4. Complex\n",
        "d = np.array([1, 2, 3], dtype=np.complex128)\n",
        "print(\"\\nArray d :\", d)\n",
        "print(\"Tipe data d:\", d.dtype)\n",
        "\n",
        "# 5. Boolean\n",
        "e = np.array([True, False, True], dtype=np.bool_)\n",
        "print(\"\\nArray e :\", e)\n",
        "print(\"Tipe data e:\", e.dtype)\n",
        "\n",
        "# 6. String\n",
        "f = np.array([\"Python\", \"NumPy\", \"Data\"], dtype=np.str_)\n",
        "print(\"\\nArray f :\", f)\n",
        "print(\"Tipe data f:\", f.dtype)\n",
        "\n",
        "# 7. Object (campuran)\n",
        "g = np.array([1, \"Teks\", 3.14], dtype=object)\n",
        "print(\"\\nArray g :\", g)\n",
        "print(\"Tipe data g:\", g.dtype)\n"
      ],
      "metadata": {
        "colab": {
          "base_uri": "https://localhost:8080/"
        },
        "id": "EP0M4QNsTtWB",
        "outputId": "ce20562c-fd5a-404c-e7bb-46662026a367"
      },
      "execution_count": 2,
      "outputs": [
        {
          "output_type": "stream",
          "name": "stdout",
          "text": [
            "Array a : [1 2 3]\n",
            "Tipe data a: int32\n",
            "\n",
            "Array b : [1 2 3]\n",
            "Tipe data b: uint8\n",
            "\n",
            "Array c : [1. 2. 3.]\n",
            "Tipe data c: float64\n",
            "\n",
            "Array d : [1.+0.j 2.+0.j 3.+0.j]\n",
            "Tipe data d: complex128\n",
            "\n",
            "Array e : [ True False  True]\n",
            "Tipe data e: bool\n",
            "\n",
            "Array f : ['Python' 'NumPy' 'Data']\n",
            "Tipe data f: <U6\n",
            "\n",
            "Array g : [1 'Teks' 3.14]\n",
            "Tipe data g: object\n"
          ]
        }
      ]
    },
    {
      "cell_type": "markdown",
      "source": [
        "MEMBUAT ARRAY DENGAN BEAGAI TEKNIK\n",
        "\n",
        "membuat array dengan berbagai teknik adalah kumpulan metode yang disediakan NumPy untuk menghasilkan array sesuai bentuk, isi, atau sifat tertentu (konstan, urutan, acak, meshgrid, dsb.)."
      ],
      "metadata": {
        "id": "hgDZZg4JV4gW"
      }
    },
    {
      "cell_type": "code",
      "source": [
        "# Membuat array dari list atau objek serupa\n",
        "#Gunakan np.array() untuk mengubah list Python, tuple, atau iterable lain menjadi array NumPy.\n",
        "\n",
        "import numpy as np\n",
        "a = np.array([1, 2, 3, 4])              # array 1D\n",
        "b = np.array([[1, 2], [3, 4]])          # array 2D\n"
      ],
      "metadata": {
        "id": "lpgREj5mV_l8"
      },
      "execution_count": 4,
      "outputs": []
    },
    {
      "cell_type": "code",
      "source": [
        "# Array berisi nilai konstan\n",
        "\n",
        "#np.zeros(shape) → array berisi nol.\n",
        "\n",
        "#np.ones(shape) → array berisi satu.\n",
        "\n",
        "#np.full(shape, value) → array berisi nilai konstan tertentu.\n",
        "\n",
        "np.zeros((2, 3))        # [[0.,0.,0.],[0.,0.,0.]]\n",
        "np.ones(4)              # [1.,1.,1.,1.]\n",
        "np.full(5, 3.0)         # [3.,3.,3.,3.,3.]\n"
      ],
      "metadata": {
        "id": "8TE2i0qaWQDY"
      },
      "execution_count": null,
      "outputs": []
    },
    {
      "cell_type": "code",
      "source": [
        "#Array berisi urutan angka\n",
        "\n",
        "#np.arange(start, stop, step) → angka dengan jarak tertentu.\n",
        "\n",
        "#np.linspace(start, stop, num) → angka yang dibagi rata sebanyak num.\n",
        "\n",
        "#np.logspace(start, stop, num) → angka yang dibagi rata dalam skala logaritmik.\n",
        "\n",
        "np.arange(0, 10, 2)       # [0,2,4,6,8]\n",
        "np.linspace(0, 10, 5)     # [0.,2.5,5.,7.5,10.]\n",
        "np.logspace(0, 2, 5)      # [1.,3.16,10.,31.62,100.]\n"
      ],
      "metadata": {
        "id": "opxiE60sW4Ns"
      },
      "execution_count": null,
      "outputs": []
    },
    {
      "cell_type": "code",
      "source": [
        "#Array meshgrid (grid koordinat)\n",
        "\n",
        "#np.meshgrid(x, y) menghasilkan koordinat 2D dari dua array 1D.\n",
        "#Berguna untuk perhitungan fungsi dua variabel (misalnya plotting kontur).\n",
        "\n",
        "x = np.array([-1, 0, 1])\n",
        "y = np.array([-2, 0, 2])\n",
        "X, Y = np.meshgrid(x, y)\n",
        "# X dan Y jadi matriks koordinat\n"
      ],
      "metadata": {
        "id": "MWH3c2QhXFun"
      },
      "execution_count": null,
      "outputs": []
    }
  ]
}